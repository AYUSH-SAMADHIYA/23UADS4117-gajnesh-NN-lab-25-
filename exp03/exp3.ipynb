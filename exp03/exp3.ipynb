{
 "cells": [
  {
   "cell_type": "code",
   "execution_count": 1,
   "id": "58f76a1e",
   "metadata": {},
   "outputs": [
    {
     "name": "stdout",
     "output_type": "stream",
     "text": [
      "WARNING:tensorflow:From C:\\Users\\ASUS\\AppData\\Local\\Temp\\ipykernel_28708\\1539320266.py:6: The name tf.disable_v2_behavior is deprecated. Please use tf.compat.v1.disable_v2_behavior instead.\n",
      "\n",
      "WARNING:tensorflow:From c:\\Users\\ASUS\\AppData\\Local\\Programs\\Python\\Python311\\Lib\\site-packages\\tensorflow\\python\\compat\\v2_compat.py:98: disable_resource_variables (from tensorflow.python.ops.resource_variables_toggle) is deprecated and will be removed in a future version.\n",
      "Instructions for updating:\n",
      "non-resource variables are not supported in the long term\n",
      "WARNING:tensorflow:From C:\\Users\\ASUS\\AppData\\Local\\Temp\\ipykernel_28708\\1539320266.py:61: The name tf.train.AdamOptimizer is deprecated. Please use tf.compat.v1.train.AdamOptimizer instead.\n",
      "\n"
     ]
    },
    {
     "name": "stderr",
     "output_type": "stream",
     "text": [
      "WARNING:tensorflow:From C:\\Users\\ASUS\\AppData\\Local\\Temp\\ipykernel_28708\\1539320266.py:61: The name tf.train.AdamOptimizer is deprecated. Please use tf.compat.v1.train.AdamOptimizer instead.\n",
      "\n"
     ]
    },
    {
     "name": "stdout",
     "output_type": "stream",
     "text": [
      "WARNING:tensorflow:From C:\\Users\\ASUS\\AppData\\Local\\Temp\\ipykernel_28708\\1539320266.py:75: The name tf.data.make_one_shot_iterator is deprecated. Please use tf.compat.v1.data.make_one_shot_iterator instead.\n",
      "\n"
     ]
    },
    {
     "name": "stderr",
     "output_type": "stream",
     "text": [
      "WARNING:tensorflow:From C:\\Users\\ASUS\\AppData\\Local\\Temp\\ipykernel_28708\\1539320266.py:75: The name tf.data.make_one_shot_iterator is deprecated. Please use tf.compat.v1.data.make_one_shot_iterator instead.\n",
      "\n"
     ]
    },
    {
     "name": "stdout",
     "output_type": "stream",
     "text": [
      "Epoch 1, Loss: 16.4426\n",
      "Epoch 2, Loss: 1.0658\n",
      "Epoch 3, Loss: 0.7249\n",
      "Epoch 4, Loss: 0.5440\n",
      "Epoch 5, Loss: 0.4593\n",
      "Epoch 6, Loss: 0.3820\n",
      "Epoch 7, Loss: 0.3307\n",
      "Epoch 8, Loss: 0.2792\n",
      "Epoch 9, Loss: 0.2512\n",
      "Epoch 10, Loss: 0.2218\n",
      "Test Accuracy: 0.9393\n"
     ]
    }
   ],
   "source": [
    "import tensorflow.compat.v1 as tf\n",
    "import numpy as np\n",
    "import tensorflow_datasets as tfds\n",
    "\n",
    "# Disable TensorFlow 2 behavior\n",
    "tf.disable_v2_behavior()\n",
    "\n",
    "# Load MNIST dataset\n",
    "mnist = tfds.load('mnist', split=['train', 'test'], as_supervised=True)\n",
    "train_data, test_data = mnist\n",
    "\n",
    "# Network Parameters\n",
    "input_size = 784  # 28x28 images\n",
    "hidden_layer1_size = 128\n",
    "hidden_layer2_size = 64\n",
    "output_size = 10\n",
    "learning_rate = 0.01\n",
    "epochs = 10\n",
    "batch_size = 100\n",
    "\n",
    "# Function to preprocess images\n",
    "def preprocess(images, labels):\n",
    "    images = tf.cast(images, tf.float32) / 255.0  # Convert to float32 and normalize\n",
    "    images = tf.reshape(images, [784])  # Ensure it's (784,) instead of (1, 784)\n",
    "    labels = tf.one_hot(labels, depth=10)  # One-hot encode labels\n",
    "    return images, labels\n",
    "\n",
    "# Apply preprocessing and batch the data\n",
    "train_data = train_data.map(preprocess).batch(batch_size)\n",
    "test_data = test_data.map(preprocess).batch(batch_size)\n",
    "\n",
    "# Define placeholders\n",
    "X = tf.placeholder(tf.float32, [None, input_size])\n",
    "Y = tf.placeholder(tf.float32, [None, output_size])\n",
    "\n",
    "# Initialize weights and biases\n",
    "weights = {\n",
    "    'h1': tf.Variable(tf.random_normal([input_size, hidden_layer1_size])),\n",
    "    'h2': tf.Variable(tf.random_normal([hidden_layer1_size, hidden_layer2_size])),\n",
    "    'out': tf.Variable(tf.random_normal([hidden_layer2_size, output_size]))\n",
    "}\n",
    "biases = {\n",
    "    'b1': tf.Variable(tf.random_normal([hidden_layer1_size])),\n",
    "    'b2': tf.Variable(tf.random_normal([hidden_layer2_size])),\n",
    "    'out': tf.Variable(tf.random_normal([output_size]))\n",
    "}\n",
    "\n",
    "# Define the neural network\n",
    "def neural_network(x):\n",
    "    layer1 = tf.nn.relu(tf.add(tf.matmul(x, weights['h1']), biases['b1']))\n",
    "    layer2 = tf.nn.relu(tf.add(tf.matmul(layer1, weights['h2']), biases['b2']))\n",
    "    output_layer = tf.add(tf.matmul(layer2, weights['out']), biases['out'])\n",
    "    return output_layer\n",
    "\n",
    "# Compute predictions\n",
    "logits = neural_network(X)\n",
    "predictions = tf.nn.softmax(logits)\n",
    "\n",
    "# Define loss and optimizer\n",
    "loss = tf.reduce_mean(tf.nn.softmax_cross_entropy_with_logits_v2(logits=logits, labels=Y))\n",
    "optimizer = tf.train.AdamOptimizer(learning_rate).minimize(loss)\n",
    "\n",
    "# Define accuracy metric\n",
    "correct_pred = tf.equal(tf.argmax(predictions, 1), tf.argmax(Y, 1))\n",
    "accuracy = tf.reduce_mean(tf.cast(correct_pred, tf.float32))\n",
    "\n",
    "# Train the model\n",
    "with tf.Session() as sess:\n",
    "    sess.run(tf.global_variables_initializer())\n",
    "\n",
    "    for epoch in range(epochs):\n",
    "        avg_loss = 0\n",
    "        total_batches = 0\n",
    "\n",
    "        iterator = tf.compat.v1.data.make_one_shot_iterator(train_data)\n",
    "        next_batch = iterator.get_next()\n",
    "\n",
    "        while True:\n",
    "            try:\n",
    "                batch_x, batch_y = sess.run(next_batch)\n",
    "                _, c = sess.run([optimizer, loss], feed_dict={X: batch_x, Y: batch_y})\n",
    "                avg_loss += c\n",
    "                total_batches += 1\n",
    "            except tf.errors.OutOfRangeError:\n",
    "                break  # End of dataset\n",
    "\n",
    "        avg_loss /= total_batches\n",
    "        print(f\"Epoch {epoch+1}, Loss: {avg_loss:.4f}\")\n",
    "\n",
    "    # Evaluate model\n",
    "    test_acc = []\n",
    "    iterator = tf.compat.v1.data.make_one_shot_iterator(test_data)\n",
    "    next_batch = iterator.get_next()\n",
    "\n",
    "    while True:\n",
    "        try:\n",
    "            batch_x, batch_y = sess.run(next_batch)\n",
    "            acc = sess.run(accuracy, feed_dict={X: batch_x, Y: batch_y})\n",
    "            test_acc.append(acc)\n",
    "        except tf.errors.OutOfRangeError:\n",
    "            break\n",
    "\n",
    "    print(f\"Test Accuracy: {np.mean(test_acc):.4f}\")\n",
    "    "
   ]
  }
 ],
 "metadata": {
  "kernelspec": {
   "display_name": "Python 3",
   "language": "python",
   "name": "python3"
  },
  "language_info": {
   "codemirror_mode": {
    "name": "ipython",
    "version": 3
   },
   "file_extension": ".py",
   "mimetype": "text/x-python",
   "name": "python",
   "nbconvert_exporter": "python",
   "pygments_lexer": "ipython3",
   "version": "3.11.4"
  }
 },
 "nbformat": 4,
 "nbformat_minor": 5
}
